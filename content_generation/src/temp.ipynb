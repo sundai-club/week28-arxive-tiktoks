{
 "cells": [
  {
   "cell_type": "code",
   "execution_count": 1,
   "id": "initial_id",
   "metadata": {
    "collapsed": true,
    "ExecuteTime": {
     "end_time": "2024-07-21T23:42:48.241132Z",
     "start_time": "2024-07-21T23:42:29.902979400Z"
    }
   },
   "outputs": [],
   "source": [
    "import scipdf"
   ]
  },
  {
   "cell_type": "code",
   "execution_count": 2,
   "outputs": [
    {
     "name": "stdout",
     "output_type": "stream",
     "text": [
      "Done parsing figures from PDFs!\n"
     ]
    }
   ],
   "source": [
    "scipdf.parse_figures('2402.09246v4.pdf', output_folder='../figures')"
   ],
   "metadata": {
    "collapsed": false,
    "ExecuteTime": {
     "end_time": "2024-07-21T23:43:34.272295Z",
     "start_time": "2024-07-21T23:43:14.680811600Z"
    }
   },
   "id": "4710fa3b1698f86a"
  },
  {
   "cell_type": "code",
   "execution_count": 13,
   "outputs": [
    {
     "name": "stderr",
     "output_type": "stream",
     "text": [
      "IOPub data rate exceeded.\n",
      "The Jupyter server will temporarily stop sending output\n",
      "to the client in order to avoid crashing it.\n",
      "To change this limit, set the config variable\n",
      "`--ServerApp.iopub_data_rate_limit`.\n",
      "\n",
      "Current values:\n",
      "ServerApp.iopub_data_rate_limit=1000000.0 (bytes/sec)\n",
      "ServerApp.rate_limit_window=3.0 (secs)\n",
      "\n"
     ]
    },
    {
     "name": "stdout",
     "output_type": "stream",
     "text": [
      "ChatCompletion(id='chatcmpl-9nc0UmVF2ZGl7MKdRJjqpMuQClyzA', choices=[Choice(finish_reason='stop', index=0, logprobs=None, message=ChatCompletionMessage(content='The image appears to depict a series of diagrams related to a sports or game simulation, likely illustrating movement patterns of players or objects on a field. \\n\\n1. **Initial Conditions**: The top left section shows the starting positions of various players, labeled A to F, as well as a goal (L) marked in black. Different colored circles indicate the positions of players.\\n\\n2. **Branch and Play**: The upper right section shows various frames capturing movements at specific time points (t = 18, 39, and 58). These frames likely illustrate the progression of play, with colored lines representing the movement paths of the players.\\n\\n3. **Randomized**: The lower section features additional time points (t = 29, 46, and 87) showing another set of movements, possibly highlighting a different strategic approach or randomized play patterns.\\n\\nOverall, the diagrams illustrate tactical movements and the dynamics of gameplay over time, possibly in a team sport like soccer or a similar activity.', role='assistant', function_call=None, tool_calls=None))], created=1721611198, model='gpt-4o-mini-2024-07-18', object='chat.completion', service_tier=None, system_fingerprint='fp_611b667b19', usage=CompletionUsage(completion_tokens=200, prompt_tokens=36848, total_tokens=37048))\n"
     ]
    }
   ],
   "source": [],
   "metadata": {
    "collapsed": false,
    "ExecuteTime": {
     "end_time": "2024-07-22T01:20:01.171874500Z",
     "start_time": "2024-07-22T01:19:53.204116300Z"
    }
   },
   "id": "1002d7677edf3a9f"
  },
  {
   "cell_type": "code",
   "execution_count": 17,
   "outputs": [
    {
     "name": "stderr",
     "output_type": "stream",
     "text": [
      "IOPub data rate exceeded.\n",
      "The Jupyter server will temporarily stop sending output\n",
      "to the client in order to avoid crashing it.\n",
      "To change this limit, set the config variable\n",
      "`--ServerApp.iopub_data_rate_limit`.\n",
      "\n",
      "Current values:\n",
      "ServerApp.iopub_data_rate_limit=1000000.0 (bytes/sec)\n",
      "ServerApp.rate_limit_window=3.0 (secs)\n",
      "\n"
     ]
    }
   ],
   "source": [
    "import base64\n",
    "from openai import OpenAI\n",
    "\n",
    "\n",
    "def encode_image(image_path):\n",
    "    with open(image_path, \"rb\") as image_file:\n",
    "        return base64.b64encode(image_file.read()).decode('utf-8')\n",
    "\n",
    "base64_image = encode_image(\"./2402_figures/figures/2402.09246v4-Figure10-1.png\")\n",
    "payload = {\n",
    "  \"model\": \"gpt-4o-mini\",\n",
    "  \"messages\": [\n",
    "    {\n",
    "      \"role\": \"user\",\n",
    "      \"content\": [\n",
    "        {\n",
    "          \"type\": \"text\",\n",
    "          \"text\": \"What’s in this image?\"\n",
    "        },\n",
    "        {\n",
    "          \"type\": \"image_url\",\n",
    "          \"image_url\": {\n",
    "            \"url\": f\"data:image/png;base64,{base64_image}\"\n",
    "          } \n",
    "        }\n",
    "      ]\n",
    "    }\n",
    "  ],\n",
    "  \"max_tokens\": 300\n",
    "}\n",
    "print(payload)\n",
    "import os\n",
    "response = openai_client.chat.completions.create(**payload)\n",
    "# print(response)\n",
    "\n"
   ],
   "metadata": {
    "collapsed": false,
    "ExecuteTime": {
     "end_time": "2024-07-22T01:36:45.057837Z",
     "start_time": "2024-07-22T01:36:38.067890100Z"
    }
   },
   "id": "7e8e3e15c629275"
  },
  {
   "cell_type": "code",
   "execution_count": 18,
   "outputs": [
    {
     "data": {
      "text/plain": "ChatCompletion(id='chatcmpl-9ncGhuKlPgss2hp7Y15YDL3XtSiJe', choices=[Choice(finish_reason='stop', index=0, logprobs=None, message=ChatCompletionMessage(content='The image depicts a series of diagrams layout on a sports field, showing movement patterns of players over time. \\n\\n1. **Initial Conditions**: This section shows the starting positions of players labeled A to F, along with a goal (L) and possibly the boundaries of a playing area.\\n\\n2. **Branch and Play**: A series of smaller images display the movement of the players at different time intervals (t = 18, 39, 58). Each movement is indicated by colored lines representing the order of play.\\n\\n3. **Randomized**: Similar to the \"Branch and Play\" section, this part shows another set of movements over time (t = 29, 46, 87), capturing how the players interact in a differing context.\\n\\nOverall, the images illustrate the dynamics of player movements in a game, possibly for analysis or strategic planning.', role='assistant', function_call=None, tool_calls=None))], created=1721612203, model='gpt-4o-mini-2024-07-18', object='chat.completion', service_tier=None, system_fingerprint='fp_611b667b19', usage=CompletionUsage(completion_tokens=175, prompt_tokens=36848, total_tokens=37023))"
     },
     "execution_count": 18,
     "metadata": {},
     "output_type": "execute_result"
    }
   ],
   "source": [
    "response"
   ],
   "metadata": {
    "collapsed": false,
    "ExecuteTime": {
     "end_time": "2024-07-22T01:36:57.814439700Z",
     "start_time": "2024-07-22T01:36:57.761850Z"
    }
   },
   "id": "d4409bd7d658a2d9"
  },
  {
   "cell_type": "code",
   "execution_count": null,
   "outputs": [],
   "source": [],
   "metadata": {
    "collapsed": false
   },
   "id": "e55cdf76294d3f6b"
  }
 ],
 "metadata": {
  "kernelspec": {
   "display_name": "Python 3",
   "language": "python",
   "name": "python3"
  },
  "language_info": {
   "codemirror_mode": {
    "name": "ipython",
    "version": 2
   },
   "file_extension": ".py",
   "mimetype": "text/x-python",
   "name": "python",
   "nbconvert_exporter": "python",
   "pygments_lexer": "ipython2",
   "version": "2.7.6"
  }
 },
 "nbformat": 4,
 "nbformat_minor": 5
}
